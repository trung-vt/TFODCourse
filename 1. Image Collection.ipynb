{
 "cells": [
  {
   "cell_type": "markdown",
   "metadata": {},
   "source": [
    "# 1. Import Dependencies"
   ]
  },
  {
   "cell_type": "code",
   "execution_count": 2,
   "metadata": {},
   "outputs": [
    {
     "name": "stdout",
     "output_type": "stream",
     "text": [
      "Requirement already satisfied: opencv-python in d:\\windows only\\git\\tensorflow object detection\\tfodcourse\\tfod\\lib\\site-packages (4.6.0.66)\n",
      "Requirement already satisfied: numpy>=1.17.3 in d:\\windows only\\git\\tensorflow object detection\\tfodcourse\\tfod\\lib\\site-packages (from opencv-python) (1.23.3)\n"
     ]
    }
   ],
   "source": [
    "!pip install opencv-python"
   ]
  },
  {
   "cell_type": "code",
   "execution_count": 3,
   "metadata": {},
   "outputs": [],
   "source": [
    "# Import opencv\n",
    "import cv2 \n",
    "\n",
    "# Import uuid\n",
    "import uuid\n",
    "\n",
    "# Import Operating System\n",
    "import os\n",
    "\n",
    "# Import time\n",
    "import time"
   ]
  },
  {
   "cell_type": "markdown",
   "metadata": {},
   "source": [
    "# 2. Define Images to Collect"
   ]
  },
  {
   "cell_type": "code",
   "execution_count": 4,
   "metadata": {},
   "outputs": [],
   "source": [
    "labels = ['thumbsup', 'thumbsdown', 'thankyou', 'livelong']\n",
    "number_imgs = 5    # best practice: 10 to 20 images per label"
   ]
  },
  {
   "cell_type": "code",
   "execution_count": 5,
   "metadata": {},
   "outputs": [
    {
     "data": {
      "text/plain": [
       "list"
      ]
     },
     "execution_count": 5,
     "metadata": {},
     "output_type": "execute_result"
    }
   ],
   "source": [
    "type(labels)"
   ]
  },
  {
   "cell_type": "code",
   "execution_count": 6,
   "metadata": {},
   "outputs": [
    {
     "data": {
      "text/plain": [
       "5"
      ]
     },
     "execution_count": 6,
     "metadata": {},
     "output_type": "execute_result"
    }
   ],
   "source": [
    "number_imgs"
   ]
  },
  {
   "cell_type": "markdown",
   "metadata": {},
   "source": [
    "# 3. Setup Folders "
   ]
  },
  {
   "cell_type": "code",
   "execution_count": 7,
   "metadata": {},
   "outputs": [],
   "source": [
    "IMAGES_PATH = os.path.join('Tensorflow', 'workspace', 'images', 'collectedimages')"
   ]
  },
  {
   "cell_type": "code",
   "execution_count": 8,
   "metadata": {},
   "outputs": [
    {
     "name": "stdout",
     "output_type": "stream",
     "text": [
      "Tensorflow\\workspace\\images\\collectedimages\n"
     ]
    },
    {
     "data": {
      "text/plain": [
       "'Tensorflow\\\\workspace\\\\images\\\\collectedimages'"
      ]
     },
     "execution_count": 8,
     "metadata": {},
     "output_type": "execute_result"
    }
   ],
   "source": [
    "print(IMAGES_PATH)\n",
    "IMAGES_PATH"
   ]
  },
  {
   "cell_type": "code",
   "execution_count": 9,
   "metadata": {},
   "outputs": [
    {
     "data": {
      "text/plain": [
       "'nt'"
      ]
     },
     "execution_count": 9,
     "metadata": {},
     "output_type": "execute_result"
    }
   ],
   "source": [
    "os.name   # Windows is 'nt', Linux is 'posix'"
   ]
  },
  {
   "cell_type": "code",
   "execution_count": 10,
   "metadata": {},
   "outputs": [],
   "source": [
    "if not os.path.exists(IMAGES_PATH):\n",
    "    if os.name == 'posix':\n",
    "        !mkdir -p {IMAGES_PATH}\n",
    "    if os.name == 'nt':\n",
    "         !mkdir {IMAGES_PATH}\n",
    "# Create a folder for each label \n",
    "for label in labels:\n",
    "    path = os.path.join(IMAGES_PATH, label)\n",
    "    if not os.path.exists(path):\n",
    "        !mkdir {path}\n",
    "\n",
    "# If you change your mind later and edit the 'labels' list and you want to remove the unused folders, you need to do this manually. "
   ]
  },
  {
   "cell_type": "markdown",
   "metadata": {},
   "source": [
    "# 4. Capture Images"
   ]
  },
  {
   "cell_type": "code",
   "execution_count": 11,
   "metadata": {},
   "outputs": [],
   "source": [
    "# for label in labels:\n",
    "#     # CONNECTS TO OUR WEBCAM OR CAPTURE DEVICE\n",
    "#     cap = cv2.VideoCapture(0)  # Need to make sure the index (0 in this case) matches the index of the capture device!\n",
    "#     print('Collecting images for {}'.format(label))\n",
    "#     time.sleep(5)\n",
    "#     for imgnum in range(number_imgs):\n",
    "#         print('Collecting image {}'.format(imgnum))\n",
    "#         ret, frame = cap.read()\n",
    "#         imgname = os.path.join(IMAGES_PATH,label,label+'.'+'{}.jpg'.format(str(uuid.uuid1())))\n",
    "#         cv2.imwrite(imgname, frame)\n",
    "#         cv2.imshow('frame', frame)\n",
    "#         time.sleep(2)\n",
    "\n",
    "#         if cv2.waitKey(1) & 0xFF == ord('q'):\n",
    "#             break\n",
    "# cap.release()\n",
    "# cv2.destroyAllWindows()"
   ]
  },
  {
   "cell_type": "code",
   "execution_count": null,
   "metadata": {},
   "outputs": [],
   "source": [
    "# # This is unnecessary because TensorFlow will do the data augmentation for me!\n",
    "# # https://youtu.be/yqkISICHH-U?t=5827\n",
    "\n",
    "# # Generate synthetic images by horizontal flip (flip right to left)\n",
    "\n",
    "# for label in labels:\n",
    "#   print('Flipping images horizontally for {}'.format(label))\n",
    "#   folder = os.path.join(IMAGES_PATH, label)\n",
    "#   present_imgnames = {}  #This is a dict (map)\n",
    "\n",
    "#   # https://www.geeksforgeeks.org/directory-traversal-tools-in-python/\n",
    "#   for root, dirs, files in os.walk(folder):\n",
    "#     # NOTE: imgname does NOT have folder path\n",
    "#     for imgname in files:\n",
    "#       # https://www.w3schools.com/python/python_dictionaries_add.asp\n",
    "#       present_imgnames[imgname] = True\n",
    "  \n",
    "#   print(present_imgnames)\n",
    "\n",
    "#   for root, dirs, files in os.walk(folder):\n",
    "#     for imgname in files:\n",
    "#       # https://www.w3schools.com/python/ref_string_endswith.asp\n",
    "#       if '-flipped' in imgname or '-rot' in imgname:\n",
    "#         continue\n",
    "#       # https://pythonexamples.org/python-substring-example/\n",
    "#       flipped_imgname = (imgname[:-4]) + '-flipped.jpg'\n",
    "#       # https://www.w3schools.com/python/python_dictionaries_access.asp\n",
    "#       if flipped_imgname in present_imgnames:\n",
    "#         continue\n",
    "#       imgname = os.path.join(folder, imgname)\n",
    "#       flipped_imgname = os.path.join(folder, flipped_imgname)\n",
    "#       print('Flipping image {}'.format(imgname))\n",
    "#       img = cv2.imread(imgname)\n",
    "#       # https://pyimagesearch.com/2021/01/20/opencv-flip-image-cv2-flip/\n",
    "#       flipped_img = cv2.flip(img, 1)\n",
    "#       cv2.imwrite(flipped_imgname, flipped_img)"
   ]
  },
  {
   "cell_type": "code",
   "execution_count": null,
   "metadata": {},
   "outputs": [],
   "source": [
    "!pip install imutils"
   ]
  },
  {
   "cell_type": "code",
   "execution_count": 12,
   "metadata": {},
   "outputs": [],
   "source": [
    "# # This is unnecessary because TensorFlow will do the data augmentation for me!\n",
    "# # https://youtu.be/yqkISICHH-U?t=5827\n",
    "\n",
    "# import imutils\n",
    "# # Generate synthetic images by rotation\n",
    "# directions = ['ccw', 'cw']\n",
    "# for label in labels:\n",
    "#   print('Rotating images slightly for {}'.format(label))\n",
    "#   folder = os.path.join(IMAGES_PATH, label)\n",
    "#   present_imgnames = {}  #This is a dict (map)\n",
    "#   for root, dirs, files in os.walk(folder):\n",
    "#     for imgname_org in files:\n",
    "#       # https://www.w3schools.com/python/ref_string_endswith.asp\n",
    "#       if '-rot' in imgname_org:\n",
    "#         continue\n",
    "#       # Rotate by 1, 2, ... 10 degrees, both clockwise and counterclockwise\n",
    "#       for i in range(10):\n",
    "#         angle = i + 1\n",
    "#         # https://pythonexamples.org/python-substring-example/\n",
    "#         for j in range(2):\n",
    "#           angle = -angle   # Negative value is counterclockwise\n",
    "#           imgname = imgname_org\n",
    "#           rot_imgname = (imgname[:-4]) + '-rot' + str(angle) + directions[j] + '.jpg'\n",
    "#           if rot_imgname in present_imgnames:\n",
    "#             continue\n",
    "#           imgname = os.path.join(folder, imgname)\n",
    "#           rot_imgname = os.path.join(folder, rot_imgname)\n",
    "#           print('Rotate image {} by {} degrees {} and save as {}'.format(imgname, abs(angle), directions[j], rot_imgname))\n",
    "#           img = cv2.imread(imgname)\n",
    "#           # https://pyimagesearch.com/2021/01/20/opencv-rotate-image/\n",
    "#           rot_img = imutils.rotate_bound(img, angle)\n",
    "#           cv2.imwrite(rot_imgname, rot_img)"
   ]
  },
  {
   "cell_type": "markdown",
   "metadata": {},
   "source": [
    "# 5. Image Labelling"
   ]
  },
  {
   "cell_type": "code",
   "execution_count": null,
   "metadata": {},
   "outputs": [],
   "source": [
    "!pip install --upgrade pyqt5 lxml"
   ]
  },
  {
   "cell_type": "code",
   "execution_count": 15,
   "metadata": {},
   "outputs": [],
   "source": [
    "LABELIMG_PATH = os.path.join('Tensorflow', 'labelimg')"
   ]
  },
  {
   "cell_type": "code",
   "execution_count": 16,
   "metadata": {},
   "outputs": [],
   "source": [
    "if not os.path.exists(LABELIMG_PATH):\n",
    "    !mkdir {LABELIMG_PATH}\n",
    "    !git clone https://github.com/tzutalin/labelImg {LABELIMG_PATH}"
   ]
  },
  {
   "cell_type": "code",
   "execution_count": 17,
   "metadata": {},
   "outputs": [],
   "source": [
    "if os.name == 'posix':\n",
    "    !cd {LABELIMG_PATH} && make qt5py3\n",
    "if os.name =='nt':\n",
    "    !cd {LABELIMG_PATH} && pyrcc5 -o libs/resources.py resources.qrc"
   ]
  },
  {
   "cell_type": "code",
   "execution_count": null,
   "metadata": {},
   "outputs": [],
   "source": [
    "!cd {LABELIMG_PATH} && python labelImg.py"
   ]
  },
  {
   "cell_type": "markdown",
   "metadata": {},
   "source": [
    "# 6. Move them into a Training and Testing Partition"
   ]
  },
  {
   "cell_type": "code",
   "execution_count": 39,
   "metadata": {},
   "outputs": [],
   "source": [
    "# TRAIN_PATH = os.path.join('Tensorflow', 'workspace', 'images', 'train')\n",
    "# TEST_PATH = os.path.join('Tensorflow', 'workspace', 'images', 'test')"
   ]
  },
  {
   "cell_type": "code",
   "execution_count": null,
   "metadata": {},
   "outputs": [],
   "source": [
    "# from random import random\n",
    "\n",
    "# train_prob = 0.8\n",
    "# for label in labels:\n",
    "#     print('Randomize \"{}\" images'.format(label))\n",
    "#     folder = os.path.join(IMAGES_PATH, label)\n",
    "#     is_train = {}  #This is a dict (map)\n",
    "\n",
    "#     # https://www.geeksforgeeks.org/directory-traversal-tools-in-python/\n",
    "#     for root, dirs, files in os.walk(folder):\n",
    "#         for f in files:        \n",
    "#             if f.endswith('.xml'):  #TODO: Check if it's really xml\n",
    "#                 is_train[f[:-4]] = True if random() < train_prob else False"
   ]
  },
  {
   "cell_type": "code",
   "execution_count": null,
   "metadata": {},
   "outputs": [],
   "source": [
    "# print('Manually delete {}'.format(TRAIN_PATH))\n",
    "# print('Manually delete {}'.format(TEST_PATH))"
   ]
  },
  {
   "cell_type": "code",
   "execution_count": null,
   "metadata": {},
   "outputs": [],
   "source": [
    "# for path in [TRAIN_PATH, TEST_PATH]:\n",
    "#     # Assume train/test path not yet created\n",
    "#     if os.path.exists(path):\n",
    "#         print('MUST MANUALLY DELETE {}'.format(path))\n",
    "#         break\n",
    "#     if os.name == 'posix':\n",
    "#         !mkdir -p {path}\n",
    "#     if os.name == 'nt':\n",
    "#         !mkdir {path}\n",
    "#     # Divide images into train or test\n",
    "#     for label in labels:\n",
    "#         print('Copy chosen \"{}\" images into {}'.format(label, path))\n",
    "#         data_path = os.path.join(IMAGES_PATH, label)\n",
    "#         for root, dirs, files in os.walk(data_path):\n",
    "#             for f in files:\n",
    "#                 if not f.endswith('.xml'):\n",
    "#                     continue\n",
    "#                 f = f[:-4]\n",
    "#                 if bool(TRAIN_PATH == path) == is_train[f]:  #TODO: Is this correct?\n",
    "#                     from_f = os.path.join(data_path, f)\n",
    "#                     to_f = os.path.join(path, f)\n",
    "#                     print(\"Copy {} to {}\".format(from_f, to_f))\n",
    "#                     # copy from_f.xml to to_f.xml  #TODO: Correct this!\n",
    "#                     # copy from_f.jpg to to_f.jpg  #TODO: Correct this!"
   ]
  },
  {
   "cell_type": "markdown",
   "metadata": {},
   "source": [
    "# OPTIONAL - 7. Compress them for Colab Training"
   ]
  },
  {
   "cell_type": "code",
   "execution_count": 20,
   "metadata": {},
   "outputs": [],
   "source": [
    "TRAIN_PATH = os.path.join('Tensorflow', 'workspace', 'images', 'train')\n",
    "TEST_PATH = os.path.join('Tensorflow', 'workspace', 'images', 'test')\n",
    "ARCHIVE_PATH = os.path.join('Tensorflow', 'workspace', 'images', 'archive.tar.gz')"
   ]
  },
  {
   "cell_type": "code",
   "execution_count": 21,
   "metadata": {},
   "outputs": [],
   "source": [
    "!tar -czf {ARCHIVE_PATH} {TRAIN_PATH} {TEST_PATH}"
   ]
  },
  {
   "cell_type": "code",
   "execution_count": null,
   "metadata": {},
   "outputs": [],
   "source": []
  }
 ],
 "metadata": {
  "kernelspec": {
   "display_name": "tfod",
   "language": "python",
   "name": "tfod"
  },
  "language_info": {
   "codemirror_mode": {
    "name": "ipython",
    "version": 3
   },
   "file_extension": ".py",
   "mimetype": "text/x-python",
   "name": "python",
   "nbconvert_exporter": "python",
   "pygments_lexer": "ipython3",
   "version": "3.8.5"
  }
 },
 "nbformat": 4,
 "nbformat_minor": 2
}
